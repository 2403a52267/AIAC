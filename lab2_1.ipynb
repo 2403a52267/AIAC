{
  "nbformat": 4,
  "nbformat_minor": 0,
  "metadata": {
    "colab": {
      "provenance": [],
      "authorship_tag": "ABX9TyMLBuZZkfopMNi2Q0UGHQAH",
      "include_colab_link": true
    },
    "kernelspec": {
      "name": "python3",
      "display_name": "Python 3"
    },
    "language_info": {
      "name": "python"
    }
  },
  "cells": [
    {
      "cell_type": "markdown",
      "metadata": {
        "id": "view-in-github",
        "colab_type": "text"
      },
      "source": [
        "<a href=\"https://colab.research.google.com/github/2403a52267/AIAC/blob/main/lab2_1.ipynb\" target=\"_parent\"><img src=\"https://colab.research.google.com/assets/colab-badge.svg\" alt=\"Open In Colab\"/></a>"
      ]
    },
    {
      "cell_type": "code",
      "execution_count": null,
      "metadata": {
        "id": "N4dNaWyAW6Uc"
      },
      "outputs": [],
      "source": []
    },
    {
      "cell_type": "markdown",
      "source": [
        "TASK1:write a Python function that reads\n",
        "a list of numbers and calculates the mean, minimum, and maximum values that take input from the console?"
      ],
      "metadata": {
        "id": "qChHFvD2XpW-"
      }
    },
    {
      "cell_type": "code",
      "source": [],
      "metadata": {
        "id": "Kd7z-muuX1M-"
      },
      "execution_count": null,
      "outputs": []
    },
    {
      "cell_type": "code",
      "metadata": {
        "colab": {
          "base_uri": "https://localhost:8080/"
        },
        "id": "618d2dac",
        "outputId": "8eae4aa9-6fc4-4be7-af0b-3fcbeab32948"
      },
      "source": [
        "def analyze_numbers():\n",
        "  \"\"\"Reads a list of numbers from the console and calculates mean, min, and max.\"\"\"\n",
        "\n",
        "  while True:\n",
        "    try:\n",
        "      numbers_str = input(\"Enter a list of numbers separated by spaces: \")\n",
        "      numbers = [float(num) for num in numbers_str.split()]\n",
        "      if not numbers:\n",
        "        print(\"No numbers entered. Please try again.\")\n",
        "        continue\n",
        "      break\n",
        "    except ValueError:\n",
        "      print(\"Invalid input. Please enter numbers separated by spaces.\")\n",
        "\n",
        "  mean_value = sum(numbers) / len(numbers)\n",
        "  min_value = min(numbers)\n",
        "  max_value = max(numbers)\n",
        "\n",
        "  print(f\"Mean: {mean_value}\")\n",
        "  print(f\"Minimum: {min_value}\")\n",
        "  print(f\"Maximum: {max_value}\")\n",
        "\n",
        "# Call the function to use it\n",
        "analyze_numbers()"
      ],
      "execution_count": 1,
      "outputs": [
        {
          "output_type": "stream",
          "name": "stdout",
          "text": [
            "Enter a list of numbers separated by spaces: 3 5 7 9 \n",
            "Mean: 6.0\n",
            "Minimum: 3.0\n",
            "Maximum: 9.0\n"
          ]
        }
      ]
    },
    {
      "cell_type": "markdown",
      "source": [
        "EXPLANATION FOR TASK 1 CODE:This code defines a function called analyze_numbers that does the following:\n",
        "\n",
        "Asks for input: It prompts you to enter a list of numbers separated by spaces.\n",
        "Handles errors: It makes sure you enter valid numbers and keeps asking until you do.\n",
        "Calculates: It figures out the average (mean), the smallest number (minimum), and the largest number (maximum) from the list you entered.\n",
        "Shows results: It prints the calculated mean, minimum, and maximum values.\n",
        "Runs the function: The last line analyze_numbers() actually starts the function so you can use it.\n"
      ],
      "metadata": {
        "id": "HZtm6dcWYEUY"
      }
    },
    {
      "cell_type": "markdown",
      "source": [
        "TASK 2: Write a Python function that\n",
        "checks whether a number is an Armstrong number"
      ],
      "metadata": {
        "id": "vZcqK1vKYf9P"
      }
    },
    {
      "cell_type": "code",
      "source": [],
      "metadata": {
        "id": "Tmk77MPSYoBG"
      },
      "execution_count": null,
      "outputs": []
    },
    {
      "cell_type": "code",
      "metadata": {
        "colab": {
          "base_uri": "https://localhost:8080/"
        },
        "id": "e3d35a64",
        "outputId": "2ada43dc-c476-49d3-cd0b-ac83fff703d0"
      },
      "source": [
        "def is_armstrong_number():\n",
        "    \"\"\"Checks if a number entered from the console is an Armstrong number.\"\"\"\n",
        "    while True:\n",
        "        try:\n",
        "            num_str = input(\"Enter a number to check if it's an Armstrong number: \")\n",
        "            num = int(num_str)\n",
        "            if num < 0:\n",
        "                print(\"Please enter a non-negative integer.\")\n",
        "                continue\n",
        "            break\n",
        "        except ValueError:\n",
        "            print(\"Invalid input. Please enter an integer.\")\n",
        "\n",
        "    # Calculate the number of digits\n",
        "    num_digits = len(num_str)\n",
        "\n",
        "    # Calculate the sum of digits raised to the power of the number of digits\n",
        "    sum_of_powers = 0\n",
        "    temp_num = num\n",
        "    while temp_num > 0:\n",
        "        digit = temp_num % 10\n",
        "        sum_of_powers += digit ** num_digits\n",
        "        temp_num //= 10\n",
        "\n",
        "    # Check if it's an Armstrong number\n",
        "    if num == sum_of_powers:\n",
        "        print(f\"{num} is an Armstrong number.\")\n",
        "    else:\n",
        "        print(f\"{num} is not an Armstrong number.\")\n",
        "\n",
        "# Call the function to use it\n",
        "is_armstrong_number()"
      ],
      "execution_count": 2,
      "outputs": [
        {
          "output_type": "stream",
          "name": "stdout",
          "text": [
            "Enter a number to check if it's an Armstrong number: 153\n",
            "153 is an Armstrong number.\n"
          ]
        }
      ]
    },
    {
      "cell_type": "markdown",
      "source": [
        "EXPLANATION FOR THE CODE 2:This code defines a function called is_armstrong_number that:\n",
        "\n",
        "Gets a number: It asks you to enter a whole number.\n",
        "Checks the number: It figures out if the number is an \"Armstrong number\". An Armstrong number is a number that is the sum of its own digits each raised to the power of the number of digits.\n",
        "Tells you the result: It prints whether the number you entered is an Armstrong number or not."
      ],
      "metadata": {
        "id": "ZdnQwScTYzcI"
      }
    },
    {
      "cell_type": "markdown",
      "source": [
        "code in copilot:![Screenshot 2025-08-11 192412.png](data:image/png;base64,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)"
      ],
      "metadata": {
        "id": "Z5ZhiYPMaSyp"
      }
    },
    {
      "cell_type": "markdown",
      "source": [
        "output in copilot:![Screenshot 2025-08-11 192703.png](data:image/png;base64,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)"
      ],
      "metadata": {
        "id": "UzETGNOqanhy"
      }
    },
    {
      "cell_type": "markdown",
      "source": [
        "COMPARSION OF CODE IN TASK 2 IN GEMINI AND COPILOT:The Copilot code defines a reusable function is_armstrong(number) that takes a number as input, uses a concise and Pythonic approach with sum() and list comprehension to check if it's an Armstrong number, and returns a boolean result. Input and output are handled separately in the main block, making the code modular, clean, and testable. In contrast, the Google Colab code includes both input handling and logic inside the is_armstrong_number() function. It uses a while loop for digit extraction and prints the result directly, making it more suitable for beginners but less reusable and structured. Overall, the Copilot version is better for clean design, while the Colab version is better for learning the logic step-by-step."
      ],
      "metadata": {
        "id": "v9Bq6uVhbd8g"
      }
    },
    {
      "cell_type": "markdown",
      "source": [
        "TASK3:a Python function (e.g., is_prime(n) or\n",
        "is_palindrome(s)) line by line.\n",
        "● Choose either a prime-checking or palindrome-checking function."
      ],
      "metadata": {
        "id": "0IbMU_K-bqb8"
      }
    },
    {
      "cell_type": "code",
      "source": [
        "def is_prime():\n",
        "    \"\"\"\n",
        "    Checks if an integer entered from the console is a prime number.\n",
        "    \"\"\"\n",
        "    try:\n",
        "        num = int(input(\"Enter an integer to check if it's prime: \"))\n",
        "        if num <= 1:\n",
        "            print(f\"{num} is not a prime number.\")\n",
        "            return\n",
        "        for i in range(2, int(num**0.5) + 1):\n",
        "            if num % i == 0:\n",
        "                print(f\"{num} is not a prime number.\")\n",
        "                return\n",
        "        print(f\"{num} is a prime number.\")\n",
        "    except ValueError:\n",
        "        print(\"Invalid input. Please enter an integer.\")\n",
        "\n",
        "def is_palindrome():\n",
        "    \"\"\"\n",
        "    Checks if a string entered from the console is a palindrome.\n",
        "    \"\"\"\n",
        "    text = input(\"Enter a string to check if it's a palindrome: \")\n",
        "    # Remove spaces and convert to lowercase for a more robust check\n",
        "    cleaned_text = \"\".join(text.split()).lower()\n",
        "    if cleaned_text == cleaned_text[::-1]:\n",
        "        print(f\"'{text}' is a palindrome.\")\n",
        "    else:\n",
        "        print(f\"'{text}' is not a palindrome.\")\n",
        "\n",
        "# Call the functions to run them\n",
        "print(\"--- Prime Number Check ---\")\n",
        "is_prime()\n",
        "\n",
        "print(\"\\n--- Palindrome Check ---\")\n",
        "is_palindrome()"
      ],
      "metadata": {
        "colab": {
          "base_uri": "https://localhost:8080/"
        },
        "id": "HVsy3QEkcUmZ",
        "outputId": "eac6f0f8-3478-484e-f9fe-505526e3edd2"
      },
      "execution_count": 1,
      "outputs": [
        {
          "output_type": "stream",
          "name": "stdout",
          "text": [
            "--- Prime Number Check ---\n",
            "Enter an integer to check if it's prime: 153\n",
            "153 is not a prime number.\n",
            "\n",
            "--- Palindrome Check ---\n",
            "Enter a string to check if it's a palindrome: madam\n",
            "'madam' is a palindrome.\n"
          ]
        }
      ]
    },
    {
      "cell_type": "markdown",
      "source": [
        "EXPLANATION FOR THIS CODE:This code gives you two tools:\n",
        "\n",
        "Prime Number Checker: The first part asks for a whole number and tells you if it's a \"prime number\" (a number only divisible by 1 and itself, like 2, 3, 5, 7, etc.).\n",
        "Palindrome Checker: The second part asks for some text and tells you if it's a \"palindrome\" (text that reads the same forwards and backward, like \"madam\" or \"racecar\", ignoring spaces and capitalization).\n",
        "It then runs both tools for you to try them out."
      ],
      "metadata": {
        "id": "ZzOBkqk4FJ57"
      }
    },
    {
      "cell_type": "markdown",
      "source": [
        "TASK 4:a Python\n",
        "function (e.g., sum of the first N natural numbers) and test its\n",
        "output."
      ],
      "metadata": {
        "id": "naTgcGd_FzWp"
      }
    },
    {
      "cell_type": "code",
      "source": [
        "def sum_of_first_n_natural_numbers():\n",
        "    \"\"\"\n",
        "    Calculates the sum of the first N natural numbers based on console input.\n",
        "    \"\"\"\n",
        "    try:\n",
        "        n = int(input(\"Enter a positive integer (N): \"))\n",
        "        if n < 1:\n",
        "            print(\"Please enter a positive integer.\")\n",
        "            return\n",
        "\n",
        "        # Using the formula for the sum of the first N natural numbers\n",
        "        sum_n = n * (n + 1) // 2\n",
        "\n",
        "        print(f\"The sum of the first {n} natural numbers is: {sum_n}\")\n",
        "\n",
        "    except ValueError:\n",
        "        print(\"Invalid input. Please enter an integer.\")\n",
        "\n",
        "# Call the function to run it\n",
        "sum_of_first_n_natural_numbers()"
      ],
      "metadata": {
        "colab": {
          "base_uri": "https://localhost:8080/"
        },
        "id": "Jll28j-yF-D6",
        "outputId": "54681150-91b1-461f-ab54-2c4e5b7043a1"
      },
      "execution_count": 2,
      "outputs": [
        {
          "output_type": "stream",
          "name": "stdout",
          "text": [
            "Enter a positive integer (N): 5\n",
            "The sum of the first 5 natural numbers is: 15\n"
          ]
        }
      ]
    },
    {
      "cell_type": "markdown",
      "source": [],
      "metadata": {
        "id": "S9O1Osv1GImL"
      }
    },
    {
      "cell_type": "markdown",
      "source": [
        "EXPLANATION FOR THIS CODE:This code defines a function that calculates the sum of the first few counting numbers (1, 2, 3, and so on) up to a number you choose.\n",
        "\n",
        "It asks you to enter a positive whole number (like 5).\n",
        "It uses a quick math trick (a formula) to find the sum of all the numbers from 1 up to your number.\n",
        "It prints the total sum.\n",
        "It also includes checks to make sure you enter a valid positive whole number.\n",
        "\n"
      ],
      "metadata": {
        "id": "wJLEe-m9GZhP"
      }
    },
    {
      "cell_type": "markdown",
      "source": [
        "TASK 5:Students need to write a Python program to calculate the sum of\n",
        "odd numbers and even numbers in a given tuple.\n",
        "● Refactor the code to improve logic and readability."
      ],
      "metadata": {
        "id": "V1BWBzlxGkdc"
      }
    },
    {
      "cell_type": "code",
      "source": [
        "def sum_odd_even_in_tuple():\n",
        "    \"\"\"\n",
        "    Calculates the sum of odd and even numbers in a tuple entered from the console.\n",
        "    \"\"\"\n",
        "    try:\n",
        "        input_str = input(\"Enter numbers separated by spaces to form a tuple: \")\n",
        "        # Convert the input string into a tuple of integers\n",
        "        numbers_tuple = tuple(int(x) for x in input_str.split())\n",
        "\n",
        "        sum_even = 0\n",
        "        sum_odd = 0\n",
        "\n",
        "        for number in numbers_tuple:\n",
        "            if number % 2 == 0:\n",
        "                sum_even += number\n",
        "            else:\n",
        "                sum_odd += number\n",
        "\n",
        "        print(f\"\\nOriginal tuple: {numbers_tuple}\")\n",
        "        print(f\"Sum of even numbers: {sum_even}\")\n",
        "        print(f\"Sum of odd numbers: {sum_odd}\")\n",
        "\n",
        "    except ValueError:\n",
        "        print(\"Invalid input. Please enter integers separated by spaces.\")\n",
        "\n",
        "# Call the function to run it\n",
        "sum_odd_even_in_tuple()"
      ],
      "metadata": {
        "colab": {
          "base_uri": "https://localhost:8080/"
        },
        "id": "szwfyxEqHJTf",
        "outputId": "f9dff902-a1ca-43f1-c383-00496d7a6af0"
      },
      "execution_count": 3,
      "outputs": [
        {
          "output_type": "stream",
          "name": "stdout",
          "text": [
            "Enter numbers separated by spaces to form a tuple: 2 5 8 3 7 \n",
            "\n",
            "Original tuple: (2, 5, 8, 3, 7)\n",
            "Sum of even numbers: 10\n",
            "Sum of odd numbers: 15\n"
          ]
        }
      ]
    },
    {
      "cell_type": "markdown",
      "source": [
        "EXPLANATION FOR THIS CODE:This code defines a function that calculates the sum of odd and even numbers from a list of numbers you enter.\n",
        "\n",
        "It asks you to type in a list of numbers separated by spaces.\n",
        "It then goes through your numbers and adds up all the even ones separately from all the odd ones.\n",
        "Finally, it shows you the original list of numbers and the total sum of the even numbers and the total sum of the odd number"
      ],
      "metadata": {
        "id": "v45Q1I_MHqAT"
      }
    }
  ]
}